{
 "cells": [
  {
   "cell_type": "code",
   "execution_count": 35,
   "id": "4ff0fb07-a683-4cf6-b9ac-34162312c853",
   "metadata": {},
   "outputs": [
    {
     "name": "stdout",
     "output_type": "stream",
     "text": [
      "The autoreload extension is already loaded. To reload it, use:\n",
      "  %reload_ext autoreload\n"
     ]
    }
   ],
   "source": [
    "import jax\n",
    "from jax import numpy as jnp\n",
    "import numpy as np\n",
    "from matplotlib import pyplot as plt\n",
    "from GP import GaussianProcess\n",
    "from GP import rbf,rbf_KT\n",
    "\n",
    "%load_ext autoreload\n",
    "%autoreload 2"
   ]
  },
  {
   "cell_type": "code",
   "execution_count": 36,
   "id": "bd81c219-0975-41d1-b6eb-6ad13158978b",
   "metadata": {},
   "outputs": [],
   "source": [
    "model = GaussianProcess()"
   ]
  },
  {
   "cell_type": "code",
   "execution_count": 37,
   "id": "81065112-0f69-4077-ba23-968524b2978a",
   "metadata": {},
   "outputs": [],
   "source": [
    "X = np.array([[0,1],[1,0],[0,0],[1,1]])\n",
    "y = np.random.rand(4)"
   ]
  },
  {
   "cell_type": "code",
   "execution_count": 38,
   "id": "942e0d2b-190d-4a79-bca6-ef178a5a12ef",
   "metadata": {},
   "outputs": [],
   "source": [
    "model.update(X,y)"
   ]
  },
  {
   "cell_type": "code",
   "execution_count": 39,
   "id": "3b0e9897-2e1b-4047-b6c5-91e8d3533942",
   "metadata": {},
   "outputs": [
    {
     "data": {
      "text/plain": [
       "DeviceArray([0.60653067, 0.60653067, 0.36787945, 1.        ], dtype=float32)"
      ]
     },
     "execution_count": 39,
     "metadata": {},
     "output_type": "execute_result"
    }
   ],
   "source": [
    "model.m_T(np.array([1,1]))"
   ]
  },
  {
   "cell_type": "code",
   "execution_count": 40,
   "id": "1910ff60-085a-4817-97d1-1da788d2c582",
   "metadata": {},
   "outputs": [
    {
     "data": {
      "text/plain": [
       "DeviceArray([[1.        , 0.36787945, 0.60653067, 0.60653067],\n",
       "             [0.36787945, 1.        , 0.60653067, 0.60653067],\n",
       "             [0.60653067, 0.60653067, 1.        , 0.36787945],\n",
       "             [0.60653067, 0.60653067, 0.36787945, 1.        ]],            dtype=float32)"
      ]
     },
     "execution_count": 40,
     "metadata": {},
     "output_type": "execute_result"
    }
   ],
   "source": [
    "rbf_KT(X)"
   ]
  }
 ],
 "metadata": {
  "kernelspec": {
   "display_name": "Python 3 (ipykernel)",
   "language": "python",
   "name": "python3"
  },
  "language_info": {
   "codemirror_mode": {
    "name": "ipython",
    "version": 3
   },
   "file_extension": ".py",
   "mimetype": "text/x-python",
   "name": "python",
   "nbconvert_exporter": "python",
   "pygments_lexer": "ipython3",
   "version": "3.9.5"
  }
 },
 "nbformat": 4,
 "nbformat_minor": 5
}
